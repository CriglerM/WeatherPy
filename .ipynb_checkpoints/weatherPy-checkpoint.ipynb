{
 "cells": [
  {
   "cell_type": "code",
   "execution_count": 1,
   "metadata": {
    "collapsed": true
   },
   "outputs": [],
   "source": [
    "#Dependencies\n",
    "from citipy import citipy\n",
    "from config_keys import OpWea_key\n",
    "import random\n",
    "import pandas as pd\n",
    "import numpy as np\n",
    "import matplotlib.pyplot as plt\n",
    "import requests\n",
    "import json"
   ]
  },
  {
   "cell_type": "code",
   "execution_count": 26,
   "metadata": {},
   "outputs": [],
   "source": [
    "#Random generate latitude and longitude numbers then lookup nearest city using citipy\n",
    "\n",
    "# Empty series to hold names of cities and countries\n",
    "randCity = []\n",
    "randCountry = []\n",
    "loopcnt = 0\n",
    "\n",
    "#Loop through untill 500 unique city names are found\n",
    "while len(randCity) < 25 :\n",
    "    # Loop counter just to track number of loops made\n",
    "    loopcnt +=1\n",
    "    \n",
    "    # Random generate latitude\n",
    "    lat_pos = random.randint(0,2)\n",
    "    base_lat = random.randint(0,91)\n",
    "    dec_lat = random.random()/100\n",
    "    lat = base_lat + dec_lat\n",
    "    if lat_pos == 1:\n",
    "        lat = lat * -1\n",
    "    #print(f\"The lattitude is: {lat}\") \n",
    "    \n",
    "    # Random generate longitude\n",
    "    lng_pos = random.randint(0,2)\n",
    "    base_lng = random.randint(0,181)\n",
    "    dec_lng = random.random()/100\n",
    "    lng = base_lng + dec_lng\n",
    "    if lng_pos == 1:\n",
    "        lng = lng * -1\n",
    "    #print(f\"The longitude is: {lng}\") \n",
    "    \n",
    "    # Call citipy to get nearest city based on random lat and lng\n",
    "    city = citipy.nearest_city(lat, lng)\n",
    "    \n",
    "    # Test to see if the random city is already in the list, if not, add to the city and country lists\n",
    "    foundCity = False\n",
    "    for j in range(len(randCity)):\n",
    "        if city.city_name == randCity[j]:\n",
    "            foundCity = True\n",
    "    if foundCity==False  :   \n",
    "        randCity.append(city.city_name)\n",
    "        randCountry.append(city.country_code)"
   ]
  },
  {
   "cell_type": "code",
   "execution_count": 27,
   "metadata": {
    "collapsed": true
   },
   "outputs": [],
   "source": [
    "# Build query Url\n",
    "base_url = \"http://api.openweathermap.org/data/2.5/weather?\"\n",
    "api_key = OpWea_key\n",
    "units = \"imperial\"\n",
    "\n",
    "query_url = base_url + \"appid=\" + api_key + \"&units=\" + units + \"&q=\"\n"
   ]
  },
  {
   "cell_type": "code",
   "execution_count": 29,
   "metadata": {},
   "outputs": [
    {
     "name": "stdout",
     "output_type": "stream",
     "text": [
      "Begin API Call to OpenWeather Database \n",
      "---------------------------------------\n",
      "Processing record 1 for the city: riyadh\n",
      "     Record found for city: riyadh    city id: 108410\n",
      "Processing record 2 for the city: marcona\n",
      "     No weather record found for city: marcona\n",
      "Processing record 3 for the city: det udom\n",
      "     Record found for city: det udom    city id: 1610940\n",
      "Processing record 4 for the city: dikson\n",
      "     Record found for city: dikson    city id: 1507390\n",
      "Processing record 5 for the city: sumbawa\n",
      "     Record found for city: sumbawa    city id: 1626185\n",
      "Processing record 6 for the city: udachnyy\n",
      "     Record found for city: udachnyy    city id: 2014624\n",
      "Processing record 7 for the city: norman wells\n",
      "     Record found for city: norman wells    city id: 6089245\n",
      "Processing record 8 for the city: barrow\n",
      "     Record found for city: barrow    city id: 5880054\n",
      "Processing record 9 for the city: kalmunai\n",
      "     Record found for city: kalmunai    city id: 1242110\n",
      "Processing record 10 for the city: boa vista\n",
      "     Record found for city: boa vista    city id: 3664980\n",
      "Processing record 11 for the city: yellowknife\n",
      "     Record found for city: yellowknife    city id: 6185377\n",
      "Processing record 12 for the city: urumqi\n",
      "     No weather record found for city: urumqi\n",
      "Processing record 13 for the city: sonoita\n",
      "     Record found for city: sonoita    city id: 3982837\n",
      "Processing record 14 for the city: ambalavao\n",
      "     Record found for city: ambalavao    city id: 1083968\n",
      "Processing record 15 for the city: sainte-suzanne\n",
      "     Record found for city: sainte-suzanne    city id: 935248\n",
      "Processing record 16 for the city: jamestown\n",
      "     Record found for city: jamestown    city id: 5122534\n",
      "Processing record 17 for the city: lorengau\n",
      "     Record found for city: lorengau    city id: 2092164\n",
      "Processing record 18 for the city: ouegoa\n",
      "     Record found for city: ouegoa    city id: 2139259\n",
      "Processing record 19 for the city: punta arenas\n",
      "     Record found for city: punta arenas    city id: 3874787\n",
      "Processing record 20 for the city: puri\n",
      "     Record found for city: puri    city id: 1259184\n",
      "Processing record 21 for the city: kota bahru\n",
      "     No weather record found for city: kota bahru\n",
      "Processing record 22 for the city: east london\n",
      "     Record found for city: east london    city id: 1006984\n",
      "Processing record 23 for the city: krasnoselkup\n",
      "     No weather record found for city: krasnoselkup\n",
      "Processing record 24 for the city: bredasdorp\n",
      "     Record found for city: bredasdorp    city id: 1015776\n",
      "Processing record 25 for the city: achim\n",
      "     Record found for city: achim    city id: 2959681\n",
      "---------------------------------------\n",
      "Processing Complete\n"
     ]
    }
   ],
   "source": [
    "# Loop through the list of cities and perform a request for data on each\n",
    "search_data = []\n",
    "cityList = []\n",
    "countryList = []\n",
    "query_urlList = []\n",
    "\n",
    "searchCnt = 0\n",
    "print(\"Begin API Call to OpenWeather Database \")\n",
    "print(\"---------------------------------------\")\n",
    "for city in randCity:\n",
    "    searchCnt += 1\n",
    "    print(f\"Processing record {searchCnt} for the city: {city}\")   \n",
    "    response = requests.get(query_url + city).json()\n",
    "    searchCityID = response.get(\"id\")\n",
    "    if response.get(\"id\"):\n",
    "        print(f\"     Record found for city: {city}    city id: {searchCityID}\")\n",
    "        search_data.append(response)\n",
    "        cityList.append(city)\n",
    "        countryList.append(randCountry[searchCnt-1])\n",
    "        query_urlList.append(query_url+city)\n",
    "    else:\n",
    "        print(f\"     No weather record found for city: {city}\")\n",
    "          \n",
    "print(\"---------------------------------------\")\n",
    "print(\"Processing Complete\")"
   ]
  },
  {
   "cell_type": "code",
   "execution_count": 30,
   "metadata": {},
   "outputs": [
    {
     "data": {
      "text/plain": [
       "21"
      ]
     },
     "execution_count": 30,
     "metadata": {},
     "output_type": "execute_result"
    }
   ],
   "source": [
    "#print(json.dumps(search_data[2], indent=4))\n",
    "len(search_data)"
   ]
  },
  {
   "cell_type": "code",
   "execution_count": 33,
   "metadata": {},
   "outputs": [],
   "source": [
    "# Use list comprehension to gather necessary data series\n",
    "\n",
    "lat_data = [data.get(\"coord\").get(\"lat\") for data in search_data]\n",
    "lng_data = [data.get(\"coord\").get(\"lon\") for data in search_data]\n",
    "temp_data = [data.get(\"main\").get(\"temp\") for data in search_data]\n",
    "humid_data = [data.get(\"main\").get(\"humidity\") for data in search_data]\n",
    "cloud_data =[data.get(\"clouds\").get(\"all\") for data in search_data]\n",
    "wind_data = [data.get(\"wind\").get(\"speed\") for data in search_data]"
   ]
  },
  {
   "cell_type": "code",
   "execution_count": 34,
   "metadata": {},
   "outputs": [
    {
     "data": {
      "text/html": [
       "<div>\n",
       "<style>\n",
       "    .dataframe thead tr:only-child th {\n",
       "        text-align: right;\n",
       "    }\n",
       "\n",
       "    .dataframe thead th {\n",
       "        text-align: left;\n",
       "    }\n",
       "\n",
       "    .dataframe tbody tr th {\n",
       "        vertical-align: top;\n",
       "    }\n",
       "</style>\n",
       "<table border=\"1\" class=\"dataframe\">\n",
       "  <thead>\n",
       "    <tr style=\"text-align: right;\">\n",
       "      <th></th>\n",
       "      <th>cityName</th>\n",
       "      <th>cloudiness</th>\n",
       "      <th>country</th>\n",
       "      <th>humidity</th>\n",
       "      <th>lat</th>\n",
       "      <th>lng</th>\n",
       "      <th>temp</th>\n",
       "      <th>url</th>\n",
       "      <th>winds</th>\n",
       "    </tr>\n",
       "  </thead>\n",
       "  <tbody>\n",
       "    <tr>\n",
       "      <th>0</th>\n",
       "      <td>riyadh</td>\n",
       "      <td>0</td>\n",
       "      <td>sa</td>\n",
       "      <td>59</td>\n",
       "      <td>24.69</td>\n",
       "      <td>46.72</td>\n",
       "      <td>62.60</td>\n",
       "      <td>http://api.openweathermap.org/data/2.5/weather...</td>\n",
       "      <td>6.93</td>\n",
       "    </tr>\n",
       "    <tr>\n",
       "      <th>1</th>\n",
       "      <td>det udom</td>\n",
       "      <td>40</td>\n",
       "      <td>th</td>\n",
       "      <td>62</td>\n",
       "      <td>14.91</td>\n",
       "      <td>105.08</td>\n",
       "      <td>87.80</td>\n",
       "      <td>http://api.openweathermap.org/data/2.5/weather...</td>\n",
       "      <td>4.70</td>\n",
       "    </tr>\n",
       "    <tr>\n",
       "      <th>2</th>\n",
       "      <td>dikson</td>\n",
       "      <td>64</td>\n",
       "      <td>ru</td>\n",
       "      <td>100</td>\n",
       "      <td>73.51</td>\n",
       "      <td>80.55</td>\n",
       "      <td>15.18</td>\n",
       "      <td>http://api.openweathermap.org/data/2.5/weather...</td>\n",
       "      <td>4.85</td>\n",
       "    </tr>\n",
       "    <tr>\n",
       "      <th>3</th>\n",
       "      <td>sumbawa</td>\n",
       "      <td>68</td>\n",
       "      <td>id</td>\n",
       "      <td>99</td>\n",
       "      <td>-8.50</td>\n",
       "      <td>117.43</td>\n",
       "      <td>82.23</td>\n",
       "      <td>http://api.openweathermap.org/data/2.5/weather...</td>\n",
       "      <td>2.39</td>\n",
       "    </tr>\n",
       "    <tr>\n",
       "      <th>4</th>\n",
       "      <td>udachnyy</td>\n",
       "      <td>80</td>\n",
       "      <td>ru</td>\n",
       "      <td>73</td>\n",
       "      <td>66.42</td>\n",
       "      <td>112.40</td>\n",
       "      <td>-0.17</td>\n",
       "      <td>http://api.openweathermap.org/data/2.5/weather...</td>\n",
       "      <td>3.85</td>\n",
       "    </tr>\n",
       "  </tbody>\n",
       "</table>\n",
       "</div>"
      ],
      "text/plain": [
       "   cityName  cloudiness country  humidity    lat     lng   temp  \\\n",
       "0    riyadh           0      sa        59  24.69   46.72  62.60   \n",
       "1  det udom          40      th        62  14.91  105.08  87.80   \n",
       "2    dikson          64      ru       100  73.51   80.55  15.18   \n",
       "3   sumbawa          68      id        99  -8.50  117.43  82.23   \n",
       "4  udachnyy          80      ru        73  66.42  112.40  -0.17   \n",
       "\n",
       "                                                 url  winds  \n",
       "0  http://api.openweathermap.org/data/2.5/weather...   6.93  \n",
       "1  http://api.openweathermap.org/data/2.5/weather...   4.70  \n",
       "2  http://api.openweathermap.org/data/2.5/weather...   4.85  \n",
       "3  http://api.openweathermap.org/data/2.5/weather...   2.39  \n",
       "4  http://api.openweathermap.org/data/2.5/weather...   3.85  "
      ]
     },
     "execution_count": 34,
     "metadata": {},
     "output_type": "execute_result"
    }
   ],
   "source": [
    "# Create data frame with aggregated data\n",
    "weather_data = pd.DataFrame({\"cityName\":cityList,\n",
    "                            \"country\":countryList,\n",
    "                            \"url\": query_urlList,\n",
    "                            \"lat\":lat_data,\n",
    "                            \"lng\":lng_data,\n",
    "                            \"temp\":temp_data,\n",
    "                            \"humidity\":humid_data,\n",
    "                            \"cloudiness\":cloud_data,\n",
    "                            \"winds\":wind_data})\n",
    "weather_data.head()"
   ]
  },
  {
   "cell_type": "code",
   "execution_count": 35,
   "metadata": {},
   "outputs": [
    {
     "data": {
      "text/html": [
       "<div>\n",
       "<style>\n",
       "    .dataframe thead tr:only-child th {\n",
       "        text-align: right;\n",
       "    }\n",
       "\n",
       "    .dataframe thead th {\n",
       "        text-align: left;\n",
       "    }\n",
       "\n",
       "    .dataframe tbody tr th {\n",
       "        vertical-align: top;\n",
       "    }\n",
       "</style>\n",
       "<table border=\"1\" class=\"dataframe\">\n",
       "  <thead>\n",
       "    <tr style=\"text-align: right;\">\n",
       "      <th></th>\n",
       "      <th>cityName</th>\n",
       "      <th>country</th>\n",
       "      <th>lat</th>\n",
       "      <th>lng</th>\n",
       "      <th>temp</th>\n",
       "      <th>humidity</th>\n",
       "      <th>cloudiness</th>\n",
       "      <th>winds</th>\n",
       "      <th>url</th>\n",
       "    </tr>\n",
       "  </thead>\n",
       "  <tbody>\n",
       "    <tr>\n",
       "      <th>0</th>\n",
       "      <td>riyadh</td>\n",
       "      <td>sa</td>\n",
       "      <td>24.69</td>\n",
       "      <td>46.72</td>\n",
       "      <td>62.60</td>\n",
       "      <td>59</td>\n",
       "      <td>0</td>\n",
       "      <td>6.93</td>\n",
       "      <td>http://api.openweathermap.org/data/2.5/weather...</td>\n",
       "    </tr>\n",
       "    <tr>\n",
       "      <th>1</th>\n",
       "      <td>det udom</td>\n",
       "      <td>th</td>\n",
       "      <td>14.91</td>\n",
       "      <td>105.08</td>\n",
       "      <td>87.80</td>\n",
       "      <td>62</td>\n",
       "      <td>40</td>\n",
       "      <td>4.70</td>\n",
       "      <td>http://api.openweathermap.org/data/2.5/weather...</td>\n",
       "    </tr>\n",
       "    <tr>\n",
       "      <th>2</th>\n",
       "      <td>dikson</td>\n",
       "      <td>ru</td>\n",
       "      <td>73.51</td>\n",
       "      <td>80.55</td>\n",
       "      <td>15.18</td>\n",
       "      <td>100</td>\n",
       "      <td>64</td>\n",
       "      <td>4.85</td>\n",
       "      <td>http://api.openweathermap.org/data/2.5/weather...</td>\n",
       "    </tr>\n",
       "    <tr>\n",
       "      <th>3</th>\n",
       "      <td>sumbawa</td>\n",
       "      <td>id</td>\n",
       "      <td>-8.50</td>\n",
       "      <td>117.43</td>\n",
       "      <td>82.23</td>\n",
       "      <td>99</td>\n",
       "      <td>68</td>\n",
       "      <td>2.39</td>\n",
       "      <td>http://api.openweathermap.org/data/2.5/weather...</td>\n",
       "    </tr>\n",
       "    <tr>\n",
       "      <th>4</th>\n",
       "      <td>udachnyy</td>\n",
       "      <td>ru</td>\n",
       "      <td>66.42</td>\n",
       "      <td>112.40</td>\n",
       "      <td>-0.17</td>\n",
       "      <td>73</td>\n",
       "      <td>80</td>\n",
       "      <td>3.85</td>\n",
       "      <td>http://api.openweathermap.org/data/2.5/weather...</td>\n",
       "    </tr>\n",
       "  </tbody>\n",
       "</table>\n",
       "</div>"
      ],
      "text/plain": [
       "   cityName country    lat     lng   temp  humidity  cloudiness  winds  \\\n",
       "0    riyadh      sa  24.69   46.72  62.60        59           0   6.93   \n",
       "1  det udom      th  14.91  105.08  87.80        62          40   4.70   \n",
       "2    dikson      ru  73.51   80.55  15.18       100          64   4.85   \n",
       "3   sumbawa      id  -8.50  117.43  82.23        99          68   2.39   \n",
       "4  udachnyy      ru  66.42  112.40  -0.17        73          80   3.85   \n",
       "\n",
       "                                                 url  \n",
       "0  http://api.openweathermap.org/data/2.5/weather...  \n",
       "1  http://api.openweathermap.org/data/2.5/weather...  \n",
       "2  http://api.openweathermap.org/data/2.5/weather...  \n",
       "3  http://api.openweathermap.org/data/2.5/weather...  \n",
       "4  http://api.openweathermap.org/data/2.5/weather...  "
      ]
     },
     "execution_count": 35,
     "metadata": {},
     "output_type": "execute_result"
    }
   ],
   "source": [
    "# Force column order\n",
    "weather_data = weather_data[[\"cityName\",\"country\",\"lat\",\"lng\",\"temp\",\"humidity\",\"cloudiness\",\"winds\",\"url\"]]\n",
    "weather_data.head()"
   ]
  },
  {
   "cell_type": "code",
   "execution_count": 36,
   "metadata": {
    "collapsed": true
   },
   "outputs": [],
   "source": [
    "# Save weather data to csv file\n",
    "weather_data.to_csv(\"weather_data.csv\", encoding=\"utf-8\", index=False)"
   ]
  },
  {
   "cell_type": "code",
   "execution_count": 42,
   "metadata": {},
   "outputs": [
    {
     "data": {
      "image/png": "[encoded data removed]",
      "text/plain": [
       "<matplotlib.figure.Figure at 0x29bd09a6898>"
      ]
     },
     "metadata": {},
     "output_type": "display_data"
    }
   ],
   "source": [
    "# Build a scatter plot for each data type\n",
    "\n",
    "# Latitude vs Max Temp\n",
    "plt.scatter(weather_data[\"lat\"], weather_data[\"temp\"], marker=\"o\")\n",
    "\n",
    "# Add chart labels\n",
    "plt.title(\"City Latitude vs Max Temperature\")\n",
    "plt.ylabel(\"Temperature (F) \")\n",
    "plt.xlabel(\"Latitude\")\n",
    "plt.grid(True)\n",
    "plt.xlim(-90,90)\n",
    "\n",
    "# Save the figure\n",
    "plt.savefig(\"Latitude_vs_MaxTemp.png\")\n",
    "\n",
    "# Show plot\n",
    "plt.show()"
   ]
  },
  {
   "cell_type": "code",
   "execution_count": 43,
   "metadata": {},
   "outputs": [
    {
     "data": {
      "image/png": "[encoded data removed]",
      "text/plain": [
       "<matplotlib.figure.Figure at 0x29bd1a156d8>"
      ]
     },
     "metadata": {},
     "output_type": "display_data"
    }
   ],
   "source": [
    "# Latitude vs Humidity\n",
    "plt.scatter(weather_data[\"lat\"], weather_data[\"humidity\"], marker=\"o\")\n",
    "\n",
    "# Add chart labels\n",
    "plt.title(\"City Latitude vs Humidity\")\n",
    "plt.ylabel(\"Humidity\")\n",
    "plt.xlabel(\"Latitude\")\n",
    "plt.grid(True)\n",
    "plt.xlim(-90,90)\n",
    "\n",
    "# Save the figure\n",
    "plt.savefig(\"Latitude_vs_Humidity.png\")\n",
    "\n",
    "# Show plot\n",
    "plt.show()"
   ]
  },
  {
   "cell_type": "code",
   "execution_count": 44,
   "metadata": {},
   "outputs": [
    {
     "data": {
      "image/png": "[encoded data removed]",
      "text/plain": [
       "<matplotlib.figure.Figure at 0x29bd1adbfd0>"
      ]
     },
     "metadata": {},
     "output_type": "display_data"
    }
   ],
   "source": [
    "# Latitude vs Cloudiness\n",
    "plt.scatter(weather_data[\"lat\"], weather_data[\"cloudiness\"], marker=\"o\")\n",
    "\n",
    "# Add chart labels\n",
    "plt.title(\"City Latitude vs Cloudiness\")\n",
    "plt.ylabel(\"Cloudiness\")\n",
    "plt.xlabel(\"Latitude\")\n",
    "plt.grid(True)\n",
    "plt.xlim(-90,90)\n",
    "\n",
    "# Save the figure\n",
    "plt.savefig(\"Latitude_vs_Cloudiness.png\")\n",
    "\n",
    "# Show plot\n",
    "plt.show()"
   ]
  },
  {
   "cell_type": "code",
   "execution_count": 45,
   "metadata": {},
   "outputs": [
    {
     "data": {
      "image/png": "[encoded data removed]",
      "text/plain": [
       "<matplotlib.figure.Figure at 0x29bd1b6ccf8>"
      ]
     },
     "metadata": {},
     "output_type": "display_data"
    }
   ],
   "source": [
    "# Latitude vs Wind Speed\n",
    "plt.scatter(weather_data[\"lat\"], weather_data[\"winds\"], marker=\"o\")\n",
    "\n",
    "# Add chart labels\n",
    "plt.title(\"City Latitude vs Wind Speed\")\n",
    "plt.ylabel(\"Wind Speed (mph)\")\n",
    "plt.xlabel(\"Latitude\")\n",
    "plt.grid(True)\n",
    "plt.xlim(-90,90)\n",
    "\n",
    "# Save the figure\n",
    "plt.savefig(\"Latitude_vs_WindSpeed.png\")\n",
    "\n",
    "# Show plot\n",
    "plt.show()"
   ]
  },
  {
   "cell_type": "code",
   "execution_count": null,
   "metadata": {
    "collapsed": true
   },
   "outputs": [],
   "source": []
  }
 ],
 "metadata": {
  "kernelspec": {
   "display_name": "Python 3",
   "language": "python",
   "name": "python3"
  },
  "language_info": {
   "codemirror_mode": {
    "name": "ipython",
    "version": 3
   },
   "file_extension": ".py",
   "mimetype": "text/x-python",
   "name": "python",
   "nbconvert_exporter": "python",
   "pygments_lexer": "ipython3",
   "version": "3.6.1"
  }
 },
 "nbformat": 4,
 "nbformat_minor": 2
}
